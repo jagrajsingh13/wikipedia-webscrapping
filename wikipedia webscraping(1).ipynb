{
 "cells": [
  {
   "cell_type": "code",
   "execution_count": 2,
   "id": "0a6271b6-0139-4d2c-9ef7-b28bfdb67084",
   "metadata": {},
   "outputs": [],
   "source": [
    "import requests\n",
    "from bs4 import BeautifulSoup"
   ]
  },
  {
   "cell_type": "code",
   "execution_count": 31,
   "id": "dbf067c4-385a-4950-b5cd-1f7cb189190a",
   "metadata": {},
   "outputs": [
    {
     "name": "stdin",
     "output_type": "stream",
     "text": [
      "Please Give the Wikipedia Link That you need to Scrap :  manipal\n"
     ]
    },
    {
     "name": "stdout",
     "output_type": "stream",
     "text": [
      "https://www.google.com/search?q=manipal+wikipedia\n"
     ]
    }
   ],
   "source": [
    "user_input = input(\"Please Give the Wikipedia Link That you need to Scrap : \")\n",
    "link = \"https://www.google.com/search?q=\" + user_input + \"+wikipedia\"\n",
    "link = link.replace(\" \", \"+\")\n",
    "print(link)\n"
   ]
  },
  {
   "cell_type": "code",
   "execution_count": 33,
   "id": "a418c4cc-1f2e-4334-a0d2-57f253618525",
   "metadata": {},
   "outputs": [],
   "source": [
    "res = requests.get(link)\n",
    "soup = BeautifulSoup(res.text, \"html.parser\")"
   ]
  },
  {
   "cell_type": "code",
   "execution_count": 35,
   "id": "1e45fc94-b485-4011-be98-28e64de75653",
   "metadata": {},
   "outputs": [
    {
     "name": "stdout",
     "output_type": "stream",
     "text": [
      "https://en.wikipedia.org/wiki/Manipal\n"
     ]
    }
   ],
   "source": [
    "\n",
    "for sp in soup.find_all(\"div\"):\n",
    "    try:\n",
    "        link = sp.find(\"a\").get(\"href\")\n",
    "        if (\"en.wikipedia.org\" in link):\n",
    "            break\n",
    "    except:\n",
    "        pass\n",
    "\n",
    "link = link.split(\"&\")[0]\n",
    "link = link[7:]\n",
    "print(link)\n"
   ]
  },
  {
   "cell_type": "code",
   "execution_count": 37,
   "id": "04680557-42dc-479d-aca0-9baa641da32e",
   "metadata": {},
   "outputs": [],
   "source": [
    "res = requests.get(link)\n",
    "soup = BeautifulSoup(res.text, \"html.parser\")"
   ]
  },
  {
   "cell_type": "code",
   "execution_count": 39,
   "id": "02eadc1e-275f-4f31-a3e0-473145c99337",
   "metadata": {},
   "outputs": [],
   "source": [
    "file = \"\"\n",
    "for i in soup.find_all(\"p\"):\n",
    "    file = file + i.text.strip()+(\"\\n\\n\")"
   ]
  },
  {
   "cell_type": "code",
   "execution_count": 41,
   "id": "587fbfc6-b51e-41aa-96c6-a3cbd30e4e8e",
   "metadata": {},
   "outputs": [],
   "source": [
    "for i in range(1,10000):\n",
    "    file = file.replace(\"[\" + str(i) + \"]\", \"\")\n",
    "heading = soup.find(\"span\", class_ = \"mw-page-title-main\").text"
   ]
  },
  {
   "cell_type": "code",
   "execution_count": 43,
   "id": "7e627e75-8111-4a25-a0ff-7aa5c554108a",
   "metadata": {},
   "outputs": [],
   "source": [
    "fd = open(heading + \".text\", \"w\",  encoding=\"utf-8\")\n",
    "fd.write(file)\n",
    "fd.close()"
   ]
  },
  {
   "cell_type": "code",
   "execution_count": null,
   "id": "a4dd4069-2df1-44f2-83ff-d1ee8fe3c867",
   "metadata": {},
   "outputs": [],
   "source": []
  }
 ],
 "metadata": {
  "kernelspec": {
   "display_name": "Python 3 (ipykernel)",
   "language": "python",
   "name": "python3"
  },
  "language_info": {
   "codemirror_mode": {
    "name": "ipython",
    "version": 3
   },
   "file_extension": ".py",
   "mimetype": "text/x-python",
   "name": "python",
   "nbconvert_exporter": "python",
   "pygments_lexer": "ipython3",
   "version": "3.12.4"
  }
 },
 "nbformat": 4,
 "nbformat_minor": 5
}
